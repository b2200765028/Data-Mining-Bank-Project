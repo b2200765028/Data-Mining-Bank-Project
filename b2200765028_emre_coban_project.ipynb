{
 "cells": [
  {
   "cell_type": "markdown",
   "id": "e3e0ba40",
   "metadata": {},
   "source": [
    "## AIN429 Project\n",
    "### Student Number : 2200765028\n",
    "\n",
    "### Name Surname : Emre Çoban\n",
    "\n",
    "### Project Title : Bank Marketing Project\n",
    "\n"
   ]
  },
  {
   "cell_type": "markdown",
   "id": "affdf5e8",
   "metadata": {},
   "source": [
    "Bank marketing is known for its nature of developing a unique brand image, which is treated as the capital reputation of the financial academy. It is very important for a bank to develop good relationship with valued customers accompanied by innovative ideas which can be used as measures to meet their requirements.\n",
    "\n",
    "**What is term deposit?**\n",
    "A term deposit is a fixed-term investment that includes the deposit of money into an account at a financial institution. Term deposit investments usually carry short-term maturities ranging from one month to a few years and will have varying levels of required minimum deposits.\n",
    "\n",
    "***The investor must understand when buying a term deposit that they can withdraw their funds only after the term ends.***"
   ]
  },
  {
   "cell_type": "code",
   "execution_count": 1,
   "id": "f71f403a",
   "metadata": {},
   "outputs": [],
   "source": [
    "import pandas as pd\n",
    "import numpy as np\n",
    "import matplotlib.pyplot as plt\n",
    "import seaborn as sns\n",
    "import os\n",
    "import plotly.express as px\n",
    "from plotly.offline import init_notebook_mode"
   ]
  },
  {
   "cell_type": "markdown",
   "id": "808fc5aa",
   "metadata": {},
   "source": [
    "Input variables:\n",
    "   # bank client data:\n",
    "   1 - age (numeric)\n",
    "   2 - job : type of job (categorical: \"admin.\",\"unknown\",\"unemployed\",\"management\",\"housemaid\",\"entrepreneur\",\"student\",\n",
    "                                       \"blue-collar\",\"self-employed\",\"retired\",\"technician\",\"services\")\n",
    "   3 - marital : marital status (categorical: \"married\",\"divorced\",\"single\"; note: \"divorced\" means divorced or widowed)\n",
    "   4 - education (categorical: \"unknown\",\"secondary\",\"primary\",\"tertiary\")\n",
    "   5 - default: has credit in default? (binary: \"yes\",\"no\")\n",
    "   6 - balance: average yearly balance, in euros (numeric)\n",
    "   7 - housing: has housing loan? (binary: \"yes\",\"no\")\n",
    "   8 - loan: has personal loan? (binary: \"yes\",\"no\")\n",
    "   # related with the last contact of the current campaign:\n",
    "   9 - contact: contact communication type (categorical: \"unknown\",\"telephone\",\"cellular\")\n",
    "  10 - day: last contact day of the month (numeric)\n",
    "  11 - month: last contact month of year (categorical: \"jan\", \"feb\", \"mar\", ..., \"nov\", \"dec\")\n",
    "  12 - duration: last contact duration, in seconds (numeric)\n",
    "   # other attributes:\n",
    "  13 - campaign: number of contacts performed during this campaign and for this client (numeric, includes last contact)\n",
    "  14 - pdays: number of days that passed by after the client was last contacted from a previous campaign (numeric, -1 means client was not previously contacted)\n",
    "  15 - previous: number of contacts performed before this campaign and for this client (numeric)\n",
    "  16 - poutcome: outcome of the previous marketing campaign (categorical: \"unknown\",\"other\",\"failure\",\"success\")\n",
    "\n",
    "  Output variable (desired target):17 - y - has the client subscribed a term deposit? (binary: \"yes\",\"no\")"
   ]
  },
  {
   "cell_type": "markdown",
   "id": "ed3ca324",
   "metadata": {},
   "source": [
    "## Import Dataset and Summarize"
   ]
  },
  {
   "cell_type": "code",
   "execution_count": 2,
   "id": "f765a3e3",
   "metadata": {},
   "outputs": [],
   "source": [
    "df = pd.read_csv(\"bank-full.csv\",sep=\";\")"
   ]
  },
  {
   "cell_type": "code",
   "execution_count": 3,
   "id": "d0c48d0c",
   "metadata": {},
   "outputs": [
    {
     "data": {
      "text/html": [
       "<div>\n",
       "<style scoped>\n",
       "    .dataframe tbody tr th:only-of-type {\n",
       "        vertical-align: middle;\n",
       "    }\n",
       "\n",
       "    .dataframe tbody tr th {\n",
       "        vertical-align: top;\n",
       "    }\n",
       "\n",
       "    .dataframe thead th {\n",
       "        text-align: right;\n",
       "    }\n",
       "</style>\n",
       "<table border=\"1\" class=\"dataframe\">\n",
       "  <thead>\n",
       "    <tr style=\"text-align: right;\">\n",
       "      <th></th>\n",
       "      <th>age</th>\n",
       "      <th>job</th>\n",
       "      <th>marital</th>\n",
       "      <th>education</th>\n",
       "      <th>default</th>\n",
       "      <th>balance</th>\n",
       "      <th>housing</th>\n",
       "      <th>loan</th>\n",
       "      <th>contact</th>\n",
       "      <th>day</th>\n",
       "      <th>month</th>\n",
       "      <th>duration</th>\n",
       "      <th>campaign</th>\n",
       "      <th>pdays</th>\n",
       "      <th>previous</th>\n",
       "      <th>poutcome</th>\n",
       "      <th>y</th>\n",
       "    </tr>\n",
       "  </thead>\n",
       "  <tbody>\n",
       "    <tr>\n",
       "      <th>0</th>\n",
       "      <td>58</td>\n",
       "      <td>management</td>\n",
       "      <td>married</td>\n",
       "      <td>tertiary</td>\n",
       "      <td>no</td>\n",
       "      <td>2143</td>\n",
       "      <td>yes</td>\n",
       "      <td>no</td>\n",
       "      <td>unknown</td>\n",
       "      <td>5</td>\n",
       "      <td>may</td>\n",
       "      <td>261</td>\n",
       "      <td>1</td>\n",
       "      <td>-1</td>\n",
       "      <td>0</td>\n",
       "      <td>unknown</td>\n",
       "      <td>no</td>\n",
       "    </tr>\n",
       "    <tr>\n",
       "      <th>1</th>\n",
       "      <td>44</td>\n",
       "      <td>technician</td>\n",
       "      <td>single</td>\n",
       "      <td>secondary</td>\n",
       "      <td>no</td>\n",
       "      <td>29</td>\n",
       "      <td>yes</td>\n",
       "      <td>no</td>\n",
       "      <td>unknown</td>\n",
       "      <td>5</td>\n",
       "      <td>may</td>\n",
       "      <td>151</td>\n",
       "      <td>1</td>\n",
       "      <td>-1</td>\n",
       "      <td>0</td>\n",
       "      <td>unknown</td>\n",
       "      <td>no</td>\n",
       "    </tr>\n",
       "    <tr>\n",
       "      <th>2</th>\n",
       "      <td>33</td>\n",
       "      <td>entrepreneur</td>\n",
       "      <td>married</td>\n",
       "      <td>secondary</td>\n",
       "      <td>no</td>\n",
       "      <td>2</td>\n",
       "      <td>yes</td>\n",
       "      <td>yes</td>\n",
       "      <td>unknown</td>\n",
       "      <td>5</td>\n",
       "      <td>may</td>\n",
       "      <td>76</td>\n",
       "      <td>1</td>\n",
       "      <td>-1</td>\n",
       "      <td>0</td>\n",
       "      <td>unknown</td>\n",
       "      <td>no</td>\n",
       "    </tr>\n",
       "    <tr>\n",
       "      <th>3</th>\n",
       "      <td>47</td>\n",
       "      <td>blue-collar</td>\n",
       "      <td>married</td>\n",
       "      <td>unknown</td>\n",
       "      <td>no</td>\n",
       "      <td>1506</td>\n",
       "      <td>yes</td>\n",
       "      <td>no</td>\n",
       "      <td>unknown</td>\n",
       "      <td>5</td>\n",
       "      <td>may</td>\n",
       "      <td>92</td>\n",
       "      <td>1</td>\n",
       "      <td>-1</td>\n",
       "      <td>0</td>\n",
       "      <td>unknown</td>\n",
       "      <td>no</td>\n",
       "    </tr>\n",
       "    <tr>\n",
       "      <th>4</th>\n",
       "      <td>33</td>\n",
       "      <td>unknown</td>\n",
       "      <td>single</td>\n",
       "      <td>unknown</td>\n",
       "      <td>no</td>\n",
       "      <td>1</td>\n",
       "      <td>no</td>\n",
       "      <td>no</td>\n",
       "      <td>unknown</td>\n",
       "      <td>5</td>\n",
       "      <td>may</td>\n",
       "      <td>198</td>\n",
       "      <td>1</td>\n",
       "      <td>-1</td>\n",
       "      <td>0</td>\n",
       "      <td>unknown</td>\n",
       "      <td>no</td>\n",
       "    </tr>\n",
       "  </tbody>\n",
       "</table>\n",
       "</div>"
      ],
      "text/plain": [
       "   age           job  marital  education default  balance housing loan  \\\n",
       "0   58    management  married   tertiary      no     2143     yes   no   \n",
       "1   44    technician   single  secondary      no       29     yes   no   \n",
       "2   33  entrepreneur  married  secondary      no        2     yes  yes   \n",
       "3   47   blue-collar  married    unknown      no     1506     yes   no   \n",
       "4   33       unknown   single    unknown      no        1      no   no   \n",
       "\n",
       "   contact  day month  duration  campaign  pdays  previous poutcome   y  \n",
       "0  unknown    5   may       261         1     -1         0  unknown  no  \n",
       "1  unknown    5   may       151         1     -1         0  unknown  no  \n",
       "2  unknown    5   may        76         1     -1         0  unknown  no  \n",
       "3  unknown    5   may        92         1     -1         0  unknown  no  \n",
       "4  unknown    5   may       198         1     -1         0  unknown  no  "
      ]
     },
     "execution_count": 3,
     "metadata": {},
     "output_type": "execute_result"
    }
   ],
   "source": [
    "df.head()"
   ]
  },
  {
   "cell_type": "code",
   "execution_count": 4,
   "id": "b25f6fc8",
   "metadata": {},
   "outputs": [
    {
     "name": "stdout",
     "output_type": "stream",
     "text": [
      "<class 'pandas.core.frame.DataFrame'>\n",
      "RangeIndex: 45211 entries, 0 to 45210\n",
      "Data columns (total 17 columns):\n",
      " #   Column     Non-Null Count  Dtype \n",
      "---  ------     --------------  ----- \n",
      " 0   age        45211 non-null  int64 \n",
      " 1   job        45211 non-null  object\n",
      " 2   marital    45211 non-null  object\n",
      " 3   education  45211 non-null  object\n",
      " 4   default    45211 non-null  object\n",
      " 5   balance    45211 non-null  int64 \n",
      " 6   housing    45211 non-null  object\n",
      " 7   loan       45211 non-null  object\n",
      " 8   contact    45211 non-null  object\n",
      " 9   day        45211 non-null  int64 \n",
      " 10  month      45211 non-null  object\n",
      " 11  duration   45211 non-null  int64 \n",
      " 12  campaign   45211 non-null  int64 \n",
      " 13  pdays      45211 non-null  int64 \n",
      " 14  previous   45211 non-null  int64 \n",
      " 15  poutcome   45211 non-null  object\n",
      " 16  y          45211 non-null  object\n",
      "dtypes: int64(7), object(10)\n",
      "memory usage: 5.9+ MB\n"
     ]
    }
   ],
   "source": [
    "df.info()"
   ]
  },
  {
   "cell_type": "code",
   "execution_count": 5,
   "id": "01066c53",
   "metadata": {},
   "outputs": [
    {
     "data": {
      "text/html": [
       "<div>\n",
       "<style scoped>\n",
       "    .dataframe tbody tr th:only-of-type {\n",
       "        vertical-align: middle;\n",
       "    }\n",
       "\n",
       "    .dataframe tbody tr th {\n",
       "        vertical-align: top;\n",
       "    }\n",
       "\n",
       "    .dataframe thead th {\n",
       "        text-align: right;\n",
       "    }\n",
       "</style>\n",
       "<table border=\"1\" class=\"dataframe\">\n",
       "  <thead>\n",
       "    <tr style=\"text-align: right;\">\n",
       "      <th></th>\n",
       "      <th>age</th>\n",
       "      <th>balance</th>\n",
       "      <th>day</th>\n",
       "      <th>duration</th>\n",
       "      <th>campaign</th>\n",
       "      <th>pdays</th>\n",
       "      <th>previous</th>\n",
       "    </tr>\n",
       "  </thead>\n",
       "  <tbody>\n",
       "    <tr>\n",
       "      <th>count</th>\n",
       "      <td>45211.000000</td>\n",
       "      <td>45211.000000</td>\n",
       "      <td>45211.000000</td>\n",
       "      <td>45211.000000</td>\n",
       "      <td>45211.000000</td>\n",
       "      <td>45211.000000</td>\n",
       "      <td>45211.000000</td>\n",
       "    </tr>\n",
       "    <tr>\n",
       "      <th>mean</th>\n",
       "      <td>40.936210</td>\n",
       "      <td>1362.272058</td>\n",
       "      <td>15.806419</td>\n",
       "      <td>258.163080</td>\n",
       "      <td>2.763841</td>\n",
       "      <td>40.197828</td>\n",
       "      <td>0.580323</td>\n",
       "    </tr>\n",
       "    <tr>\n",
       "      <th>std</th>\n",
       "      <td>10.618762</td>\n",
       "      <td>3044.765829</td>\n",
       "      <td>8.322476</td>\n",
       "      <td>257.527812</td>\n",
       "      <td>3.098021</td>\n",
       "      <td>100.128746</td>\n",
       "      <td>2.303441</td>\n",
       "    </tr>\n",
       "    <tr>\n",
       "      <th>min</th>\n",
       "      <td>18.000000</td>\n",
       "      <td>-8019.000000</td>\n",
       "      <td>1.000000</td>\n",
       "      <td>0.000000</td>\n",
       "      <td>1.000000</td>\n",
       "      <td>-1.000000</td>\n",
       "      <td>0.000000</td>\n",
       "    </tr>\n",
       "    <tr>\n",
       "      <th>25%</th>\n",
       "      <td>33.000000</td>\n",
       "      <td>72.000000</td>\n",
       "      <td>8.000000</td>\n",
       "      <td>103.000000</td>\n",
       "      <td>1.000000</td>\n",
       "      <td>-1.000000</td>\n",
       "      <td>0.000000</td>\n",
       "    </tr>\n",
       "    <tr>\n",
       "      <th>50%</th>\n",
       "      <td>39.000000</td>\n",
       "      <td>448.000000</td>\n",
       "      <td>16.000000</td>\n",
       "      <td>180.000000</td>\n",
       "      <td>2.000000</td>\n",
       "      <td>-1.000000</td>\n",
       "      <td>0.000000</td>\n",
       "    </tr>\n",
       "    <tr>\n",
       "      <th>75%</th>\n",
       "      <td>48.000000</td>\n",
       "      <td>1428.000000</td>\n",
       "      <td>21.000000</td>\n",
       "      <td>319.000000</td>\n",
       "      <td>3.000000</td>\n",
       "      <td>-1.000000</td>\n",
       "      <td>0.000000</td>\n",
       "    </tr>\n",
       "    <tr>\n",
       "      <th>max</th>\n",
       "      <td>95.000000</td>\n",
       "      <td>102127.000000</td>\n",
       "      <td>31.000000</td>\n",
       "      <td>4918.000000</td>\n",
       "      <td>63.000000</td>\n",
       "      <td>871.000000</td>\n",
       "      <td>275.000000</td>\n",
       "    </tr>\n",
       "  </tbody>\n",
       "</table>\n",
       "</div>"
      ],
      "text/plain": [
       "                age        balance           day      duration      campaign  \\\n",
       "count  45211.000000   45211.000000  45211.000000  45211.000000  45211.000000   \n",
       "mean      40.936210    1362.272058     15.806419    258.163080      2.763841   \n",
       "std       10.618762    3044.765829      8.322476    257.527812      3.098021   \n",
       "min       18.000000   -8019.000000      1.000000      0.000000      1.000000   \n",
       "25%       33.000000      72.000000      8.000000    103.000000      1.000000   \n",
       "50%       39.000000     448.000000     16.000000    180.000000      2.000000   \n",
       "75%       48.000000    1428.000000     21.000000    319.000000      3.000000   \n",
       "max       95.000000  102127.000000     31.000000   4918.000000     63.000000   \n",
       "\n",
       "              pdays      previous  \n",
       "count  45211.000000  45211.000000  \n",
       "mean      40.197828      0.580323  \n",
       "std      100.128746      2.303441  \n",
       "min       -1.000000      0.000000  \n",
       "25%       -1.000000      0.000000  \n",
       "50%       -1.000000      0.000000  \n",
       "75%       -1.000000      0.000000  \n",
       "max      871.000000    275.000000  "
      ]
     },
     "execution_count": 5,
     "metadata": {},
     "output_type": "execute_result"
    }
   ],
   "source": [
    "df.describe()"
   ]
  },
  {
   "cell_type": "markdown",
   "id": "ab69630f",
   "metadata": {},
   "source": [
    "## Preprocess and Visualize"
   ]
  },
  {
   "cell_type": "code",
   "execution_count": 6,
   "id": "c8fa41c2",
   "metadata": {},
   "outputs": [
    {
     "data": {
      "text/plain": [
       "age          0\n",
       "job          0\n",
       "marital      0\n",
       "education    0\n",
       "default      0\n",
       "balance      0\n",
       "housing      0\n",
       "loan         0\n",
       "contact      0\n",
       "day          0\n",
       "month        0\n",
       "duration     0\n",
       "campaign     0\n",
       "pdays        0\n",
       "previous     0\n",
       "poutcome     0\n",
       "y            0\n",
       "dtype: int64"
      ]
     },
     "execution_count": 6,
     "metadata": {},
     "output_type": "execute_result"
    }
   ],
   "source": [
    "## Checking Missing Values\n",
    "df.isnull().sum()"
   ]
  },
  {
   "cell_type": "code",
   "execution_count": 7,
   "id": "e8fa4250",
   "metadata": {},
   "outputs": [
    {
     "data": {
      "text/plain": [
       "0"
      ]
     },
     "execution_count": 7,
     "metadata": {},
     "output_type": "execute_result"
    }
   ],
   "source": [
    "## Number of unique rows\n",
    "df.duplicated().sum()"
   ]
  },
  {
   "cell_type": "code",
   "execution_count": 8,
   "id": "02242877",
   "metadata": {},
   "outputs": [
    {
     "data": {
      "text/plain": [
       "<AxesSubplot:ylabel='None'>"
      ]
     },
     "execution_count": 8,
     "metadata": {},
     "output_type": "execute_result"
    },
    {
     "data": {
      "image/png": "[encoded data removed]",
      "text/plain": [
       "<Figure size 432x432 with 1 Axes>"
      ]
     },
     "metadata": {},
     "output_type": "display_data"
    }
   ],
   "source": [
    "def label_function(val):\n",
    "    return f'{val:.0f}%'\n",
    "\n",
    "plt.figure(figsize=(6,6))\n",
    "df.groupby('y').size().plot(kind='pie' ,autopct=label_function,textprops={'fontsize': 20}, colors=['red', 'green'])"
   ]
  },
  {
   "cell_type": "markdown",
   "id": "189a2f1c",
   "metadata": {},
   "source": [
    "### Looks like labels are not balanced so we might need to consider it later on while creating model"
   ]
  },
  {
   "cell_type": "markdown",
   "id": "c9c2779f",
   "metadata": {},
   "source": [
    "### We have no missing values and no duplicate rows"
   ]
  },
  {
   "cell_type": "code",
   "execution_count": 9,
   "id": "657bfd20",
   "metadata": {},
   "outputs": [
    {
     "data": {
      "text/plain": [
       "<AxesSubplot:ylabel='None'>"
      ]
     },
     "execution_count": 9,
     "metadata": {},
     "output_type": "execute_result"
    },
    {
     "data": {
      "image/png": "[encoded data removed]",
      "text/plain": [
       "<Figure size 432x432 with 1 Axes>"
      ]
     },
     "metadata": {},
     "output_type": "display_data"
    }
   ],
   "source": [
    "plt.figure(figsize=(6,6))\n",
    "df.groupby('marital').size().plot(kind='pie' ,autopct=label_function ,textprops={'fontsize': 20}, colors=['tomato', 'gold', 'skyblue'])"
   ]
  },
  {
   "cell_type": "markdown",
   "id": "d4344890",
   "metadata": {},
   "source": [
    "### Our data includes more people who is married"
   ]
  },
  {
   "cell_type": "code",
   "execution_count": 10,
   "id": "5d6af1fa",
   "metadata": {},
   "outputs": [
    {
     "data": {
      "text/plain": [
       "<AxesSubplot:xlabel='balance', ylabel='marital'>"
      ]
     },
     "execution_count": 10,
     "metadata": {},
     "output_type": "execute_result"
    },
    {
     "data": {
      "image/png": "[encoded data removed]",
      "text/plain": [
       "<Figure size 864x576 with 1 Axes>"
      ]
     },
     "metadata": {
      "needs_background": "light"
     },
     "output_type": "display_data"
    }
   ],
   "source": [
    "plt.figure(figsize=(12,8))\n",
    "sns.boxplot(data=df,x=\"balance\",y=\"marital\")"
   ]
  },
  {
   "cell_type": "markdown",
   "id": "2c5f9e8d",
   "metadata": {},
   "source": [
    "### Looks like divorced people has less balance but this could be because of we have less divorced people in our data. Or maybe married people are more rich"
   ]
  },
  {
   "cell_type": "code",
   "execution_count": 11,
   "id": "5cce4df8",
   "metadata": {},
   "outputs": [
    {
     "data": {
      "text/plain": [
       "<AxesSubplot:ylabel='None'>"
      ]
     },
     "execution_count": 11,
     "metadata": {},
     "output_type": "execute_result"
    },
    {
     "data": {
      "image/png": "[encoded data removed]",
      "text/plain": [
       "<Figure size 432x432 with 1 Axes>"
      ]
     },
     "metadata": {},
     "output_type": "display_data"
    }
   ],
   "source": [
    "plt.figure(figsize=(6,6))\n",
    "df.groupby('education').size().plot(kind='pie' ,autopct=label_function ,textprops={'fontsize': 20}, colors=['tomato', 'gold', 'skyblue',\"green\"])"
   ]
  },
  {
   "cell_type": "code",
   "execution_count": 12,
   "id": "a014ee40",
   "metadata": {},
   "outputs": [
    {
     "data": {
      "image/png": "[encoded data removed]",
      "text/plain": [
       "<Figure size 864x576 with 1 Axes>"
      ]
     },
     "metadata": {
      "needs_background": "light"
     },
     "output_type": "display_data"
    }
   ],
   "source": [
    "plt.figure(figsize=(12,8))\n",
    "plt.title(\"Distribution of balance based on Education Level\")\n",
    "sns.boxplot(data=df,x=\"education\",y=\"balance\")\n",
    "plt.show()"
   ]
  },
  {
   "cell_type": "code",
   "execution_count": 13,
   "id": "0c72b4f9",
   "metadata": {},
   "outputs": [
    {
     "name": "stdout",
     "output_type": "stream",
     "text": [
      "Mean balance of tertiary education  1758.4164348545223\n",
      "Mean balance of secondary education  1154.880786139126\n",
      "Mean balance of primary education  1250.9499343161583\n"
     ]
    }
   ],
   "source": [
    "print(\"Mean balance of tertiary education \",df[df[\"education\"]==\"tertiary\"][\"balance\"].mean())\n",
    "print(\"Mean balance of secondary education \",df[df[\"education\"]==\"secondary\"][\"balance\"].mean())\n",
    "print(\"Mean balance of primary education \",df[df[\"education\"]==\"primary\"][\"balance\"].mean())"
   ]
  },
  {
   "cell_type": "markdown",
   "id": "dc9b5a6f",
   "metadata": {},
   "source": [
    "### Looks like when education level goes higher people are more likely to have more balance which is expected"
   ]
  },
  {
   "cell_type": "code",
   "execution_count": 32,
   "id": "9a475218",
   "metadata": {},
   "outputs": [
    {
     "data": {
      "image/png": "[encoded data removed]",
      "text/plain": [
       "<Figure size 1152x576 with 1 Axes>"
      ]
     },
     "metadata": {
      "needs_background": "light"
     },
     "output_type": "display_data"
    }
   ],
   "source": [
    "plt.figure(figsize=(16,8))\n",
    "plt.title(\"Job type of the Customer\")\n",
    "sns.countplot(data=df,x=\"job\",order=df['job'].value_counts().index,palette=\"Dark2\")\n",
    "plt.xticks(rotation=-30)\n",
    "plt.show()"
   ]
  },
  {
   "cell_type": "markdown",
   "id": "ee9d51a6",
   "metadata": {},
   "source": [
    "### Most of the customer are blue-collar ,management or tecnhician"
   ]
  },
  {
   "cell_type": "code",
   "execution_count": 43,
   "id": "d682f884",
   "metadata": {},
   "outputs": [
    {
     "data": {
      "image/png": "[encoded data removed]",
      "text/plain": [
       "<Figure size 1152x576 with 1 Axes>"
      ]
     },
     "metadata": {
      "needs_background": "light"
     },
     "output_type": "display_data"
    }
   ],
   "source": [
    "a = df.groupby(['job'],as_index=False)['balance'].mean()\n",
    "\n",
    "plt.figure(figsize=(16,8))\n",
    "plt.title(\"Average balance of the clients by their job type\")\n",
    "sns.barplot(data=a.sort_values(by=\"balance\",ascending=False),x=\"job\",y=\"balance\",palette=\"Dark2\")\n",
    "plt.xticks(rotation=-30)\n",
    "plt.show()"
   ]
  },
  {
   "cell_type": "markdown",
   "id": "0de9e644",
   "metadata": {},
   "source": [
    "### Looks like retired people has the highest balance, this could be due to they spend less money "
   ]
  },
  {
   "cell_type": "code",
   "execution_count": 16,
   "id": "3b333942",
   "metadata": {},
   "outputs": [
    {
     "data": {
      "image/png": "[encoded data removed]",
      "text/plain": [
       "<Figure size 504x504 with 1 Axes>"
      ]
     },
     "metadata": {
      "needs_background": "light"
     },
     "output_type": "display_data"
    }
   ],
   "source": [
    "plt.figure(figsize=(7,7))\n",
    "plt.title(\"Distribution of age based on marital status\")\n",
    "sns.boxplot(data=df,x=\"marital\",y=\"age\")\n",
    "plt.show()"
   ]
  },
  {
   "cell_type": "markdown",
   "id": "78db8527",
   "metadata": {},
   "source": [
    "### Looks like single people are the youngest as expected"
   ]
  },
  {
   "cell_type": "code",
   "execution_count": 17,
   "id": "67d99c32",
   "metadata": {},
   "outputs": [
    {
     "data": {
      "image/png": "[encoded data removed]",
      "text/plain": [
       "<Figure size 504x504 with 1 Axes>"
      ]
     },
     "metadata": {
      "needs_background": "light"
     },
     "output_type": "display_data"
    }
   ],
   "source": [
    "\n",
    "plt.figure(figsize=(7,7))\n",
    "plt.title(\"Distribution of age based on Education Level\")\n",
    "sns.boxplot(data=df,x=\"education\",y=\"age\")\n",
    "plt.show()"
   ]
  },
  {
   "cell_type": "code",
   "execution_count": 18,
   "id": "a0d8a779",
   "metadata": {},
   "outputs": [
    {
     "data": {
      "text/plain": [
       "<AxesSubplot:xlabel='balance', ylabel='y'>"
      ]
     },
     "execution_count": 18,
     "metadata": {},
     "output_type": "execute_result"
    },
    {
     "data": {
      "image/png": "[encoded data removed]",
      "text/plain": [
       "<Figure size 864x576 with 1 Axes>"
      ]
     },
     "metadata": {
      "needs_background": "light"
     },
     "output_type": "display_data"
    }
   ],
   "source": [
    "plt.figure(figsize=(12,8))\n",
    "sns.boxplot(data=df,x=\"balance\",y=\"y\")"
   ]
  },
  {
   "cell_type": "code",
   "execution_count": 19,
   "id": "380aff69",
   "metadata": {},
   "outputs": [
    {
     "name": "stdout",
     "output_type": "stream",
     "text": [
      "Mean balance of those who buys deposit  1804.2679145396105\n",
      "Mean balance of those who doesnt buy deposit  1303.7149691899203\n"
     ]
    }
   ],
   "source": [
    "print(\"Mean balance of those who buys deposit \",df[df[\"y\"]==\"yes\"][\"balance\"].mean())\n",
    "print(\"Mean balance of those who doesnt buy deposit \",df[df[\"y\"]==\"no\"][\"balance\"].mean())\n"
   ]
  },
  {
   "cell_type": "markdown",
   "id": "8ab59b8f",
   "metadata": {},
   "source": [
    "### Looks like those who accept deposit offer more likely to have less balance which probably because they might need the money from deposit\n",
    "\n",
    "### This might be because of when people have more balance they dont need the money from term deposit"
   ]
  },
  {
   "cell_type": "code",
   "execution_count": 20,
   "id": "8c2c0635",
   "metadata": {},
   "outputs": [
    {
     "data": {
      "image/png": "[encoded data removed]",
      "text/plain": [
       "<Figure size 576x576 with 1 Axes>"
      ]
     },
     "metadata": {
      "needs_background": "light"
     },
     "output_type": "display_data"
    }
   ],
   "source": [
    "plt.figure(figsize=(8,8))\n",
    "plt.title(\"Distrubution of duration w.r.t to label\")\n",
    "sns.boxplot(data=df,x=\"y\",y=\"duration\")\n",
    "plt.show()"
   ]
  },
  {
   "cell_type": "code",
   "execution_count": 21,
   "id": "401e8330",
   "metadata": {},
   "outputs": [],
   "source": [
    "single = df[df[\"marital\"]==\"single\"]\n",
    "divorced = df[df[\"marital\"]==\"divorced\"]\n",
    "married = df[df[\"marital\"]==\"married\"]"
   ]
  },
  {
   "cell_type": "code",
   "execution_count": 22,
   "id": "85bba7e3",
   "metadata": {},
   "outputs": [
    {
     "name": "stdout",
     "output_type": "stream",
     "text": [
      "ratio for yes singles  0.1494917904612979\n",
      "ratio for yes divorced  0.11945458037257538\n",
      "ratio for yes married  0.10123465863158668\n"
     ]
    }
   ],
   "source": [
    "print(\"ratio for yes singles \",len(single[single[\"y\"]==\"yes\"])/len(single))\n",
    "print(\"ratio for yes divorced \",len(divorced[divorced[\"y\"]==\"yes\"])/len(divorced))\n",
    "print(\"ratio for yes married \",len(married[married[\"y\"]==\"yes\"])/len(married))"
   ]
  },
  {
   "cell_type": "code",
   "execution_count": 23,
   "id": "96fc4092",
   "metadata": {},
   "outputs": [
    {
     "data": {
      "text/plain": [
       "<AxesSubplot:xlabel='marital'>"
      ]
     },
     "execution_count": 23,
     "metadata": {},
     "output_type": "execute_result"
    },
    {
     "data": {
      "image/png": "[encoded data removed]",
      "text/plain": [
       "<Figure size 432x288 with 1 Axes>"
      ]
     },
     "metadata": {
      "needs_background": "light"
     },
     "output_type": "display_data"
    }
   ],
   "source": [
    "(pd.crosstab(df['marital'], df['y'],\n",
    "             normalize='index')\n",
    " .plot.bar(stacked=True)\n",
    " )"
   ]
  },
  {
   "cell_type": "markdown",
   "id": "069bc295",
   "metadata": {},
   "source": [
    "### Looks like accepting term deposit offer ratio with respec to marital status shows us that singles are more likely to buy and married people are less likely to buy.\n",
    "### This could be because of married people dont need the money from deposit"
   ]
  },
  {
   "cell_type": "code",
   "execution_count": 24,
   "id": "3ddef9a5",
   "metadata": {},
   "outputs": [],
   "source": [
    "primary = df[df[\"education\"]==\"primary\"]\n",
    "unknown = df[df[\"education\"]==\"unknown\"]\n",
    "secondary = df[df[\"education\"]==\"secondary\"]\n",
    "tertiary = df[df[\"education\"]==\"tertiary\"]"
   ]
  },
  {
   "cell_type": "code",
   "execution_count": 25,
   "id": "0a2755ed",
   "metadata": {},
   "outputs": [
    {
     "name": "stdout",
     "output_type": "stream",
     "text": [
      "ratio for yes primary educa.  0.08626477886439936\n",
      "ratio for yes secondary educa 0.10559434531505904\n",
      "ratio for yes tertiary educa 0.15006390496955116\n",
      "ratio for yes unknown educa 0.13570274636510501\n"
     ]
    }
   ],
   "source": [
    "print(\"ratio for yes primary educa. \",len(primary[primary[\"y\"]==\"yes\"])/len(primary))\n",
    "print(\"ratio for yes secondary educa\",len(secondary[secondary[\"y\"]==\"yes\"])/len(secondary))\n",
    "print(\"ratio for yes tertiary educa\",len(tertiary[tertiary[\"y\"]==\"yes\"])/len(tertiary))\n",
    "print(\"ratio for yes unknown educa\",len(unknown[unknown[\"y\"]==\"yes\"])/len(unknown))"
   ]
  },
  {
   "cell_type": "code",
   "execution_count": 26,
   "id": "e1e80615",
   "metadata": {},
   "outputs": [
    {
     "data": {
      "text/plain": [
       "<AxesSubplot:xlabel='education'>"
      ]
     },
     "execution_count": 26,
     "metadata": {},
     "output_type": "execute_result"
    },
    {
     "data": {
      "image/png": "[encoded data removed]",
      "text/plain": [
       "<Figure size 432x288 with 1 Axes>"
      ]
     },
     "metadata": {
      "needs_background": "light"
     },
     "output_type": "display_data"
    }
   ],
   "source": [
    "(pd.crosstab(df['education'],df['y'],\n",
    "             normalize='index')\n",
    " .plot.bar(stacked=True)\n",
    " )"
   ]
  },
  {
   "cell_type": "markdown",
   "id": "9591e895",
   "metadata": {},
   "source": [
    "### Looks like when people are more educated they are more willing to take the offer for term deposit"
   ]
  },
  {
   "cell_type": "code",
   "execution_count": 27,
   "id": "fb9e5ff2",
   "metadata": {},
   "outputs": [
    {
     "data": {
      "text/plain": [
       "<AxesSubplot:xlabel='age', ylabel='y'>"
      ]
     },
     "execution_count": 27,
     "metadata": {},
     "output_type": "execute_result"
    },
    {
     "data": {
      "image/png": "[encoded data removed]",
      "text/plain": [
       "<Figure size 432x288 with 1 Axes>"
      ]
     },
     "metadata": {
      "needs_background": "light"
     },
     "output_type": "display_data"
    }
   ],
   "source": [
    "### Lets see correlation between age and label\n",
    "sns.violinplot(data=df,x=\"age\",y=\"y\")"
   ]
  },
  {
   "cell_type": "code",
   "execution_count": 28,
   "id": "11c803f0",
   "metadata": {},
   "outputs": [
    {
     "name": "stdout",
     "output_type": "stream",
     "text": [
      "Mean age of saying yes  41.670069956513515\n",
      "Mean age of saying no  40.83898602274435\n"
     ]
    }
   ],
   "source": [
    "print(\"Mean age of saying yes \",df[df[\"y\"]==\"yes\"][\"age\"].mean())\n",
    "print(\"Mean age of saying no \",df[df[\"y\"]==\"no\"][\"age\"].mean())"
   ]
  },
  {
   "cell_type": "markdown",
   "id": "76b8cec2",
   "metadata": {},
   "source": [
    "### Looks like mean age of saying \"no\" is equals to saying \"yes\" but  label \"yes\" distrubution along higher ages 6-80 is more higher"
   ]
  },
  {
   "cell_type": "code",
   "execution_count": 29,
   "id": "d0e2731d",
   "metadata": {},
   "outputs": [
    {
     "data": {
      "text/plain": [
       "<AxesSubplot:xlabel='loan'>"
      ]
     },
     "execution_count": 29,
     "metadata": {},
     "output_type": "execute_result"
    },
    {
     "data": {
      "image/png": "[encoded data removed]",
      "text/plain": [
       "<Figure size 432x288 with 1 Axes>"
      ]
     },
     "metadata": {
      "needs_background": "light"
     },
     "output_type": "display_data"
    }
   ],
   "source": [
    "(pd.crosstab(df['loan'], df['y'],\n",
    "             normalize='index')\n",
    " .plot.bar(stacked=True)\n",
    " )"
   ]
  },
  {
   "cell_type": "markdown",
   "id": "abd78419",
   "metadata": {},
   "source": [
    "### As a natural expectation those we have more loans are less likely to accept the deposit offer"
   ]
  },
  {
   "cell_type": "code",
   "execution_count": 30,
   "id": "f796b6a9",
   "metadata": {},
   "outputs": [
    {
     "data": {
      "text/plain": [
       "<AxesSubplot:xlabel='job'>"
      ]
     },
     "execution_count": 30,
     "metadata": {},
     "output_type": "execute_result"
    },
    {
     "data": {
      "image/png": "[encoded data removed]",
      "text/plain": [
       "<Figure size 864x576 with 1 Axes>"
      ]
     },
     "metadata": {
      "needs_background": "light"
     },
     "output_type": "display_data"
    }
   ],
   "source": [
    "(pd.crosstab(df['job'], df['y'],\n",
    "             normalize='index')\n",
    " .plot.bar(stacked=True,figsize=(12,8))\n",
    "\n",
    " )"
   ]
  },
  {
   "cell_type": "markdown",
   "id": "11f2ef09",
   "metadata": {},
   "source": [
    "### Looks like retired people ,technicians and students are more likely to accept term deposit offer.This could be because of students are not taking care of house so they could put their money and get montlhy paid. The rest is I cant be sure to say.Maybe retired people doesnt need cash monay and they want monthly payment from deposit account.\n",
    "### entrepreneur,blue-collar and house-maids are less likely to accept term deposit offer this could be becauose of entrpreneurs need cash money to invest so they want to be able to have cash always. House-maids and blue-collars might be trying to take care home so they might not have money left for investment."
   ]
  },
  {
   "cell_type": "code",
   "execution_count": 196,
   "id": "0da7e927",
   "metadata": {},
   "outputs": [
    {
     "data": {
      "text/plain": [
       "<AxesSubplot:xlabel='housing'>"
      ]
     },
     "execution_count": 196,
     "metadata": {},
     "output_type": "execute_result"
    },
    {
     "data": {
      "image/png": "[encoded data removed]",
      "text/plain": [
       "<Figure size 432x288 with 1 Axes>"
      ]
     },
     "metadata": {
      "needs_background": "light"
     },
     "output_type": "display_data"
    }
   ],
   "source": [
    "(pd.crosstab(df['housing'], df['y'],\n",
    "             normalize='index')\n",
    " .plot.bar(stacked=True)\n",
    " )"
   ]
  },
  {
   "cell_type": "markdown",
   "id": "9cac4f52",
   "metadata": {},
   "source": [
    "###  Again an expected issue too if a person has housing loan he is less likely to buy deposit term."
   ]
  },
  {
   "cell_type": "markdown",
   "id": "96c1a555",
   "metadata": {},
   "source": [
    "###  I visualized my data from many aspects I think I seen what kind of relationships data has\n",
    "### Now I will deal with dropping unrelevant features if any i see fit and also i will deal with outliers"
   ]
  },
  {
   "cell_type": "markdown",
   "id": "22227501",
   "metadata": {},
   "source": [
    "## ------------------------------------------------------\n",
    "## Dealing with unrelevant features"
   ]
  },
  {
   "cell_type": "code",
   "execution_count": 197,
   "id": "2e59ea0d",
   "metadata": {},
   "outputs": [
    {
     "data": {
      "text/plain": [
       "<AxesSubplot:xlabel='poutcome', ylabel='count'>"
      ]
     },
     "execution_count": 197,
     "metadata": {},
     "output_type": "execute_result"
    },
    {
     "data": {
      "image/png": "[encoded data removed]",
      "text/plain": [
       "<Figure size 432x288 with 1 Axes>"
      ]
     },
     "metadata": {
      "needs_background": "light"
     },
     "output_type": "display_data"
    }
   ],
   "source": [
    "sns.countplot(data=df,x=\"poutcome\")"
   ]
  },
  {
   "cell_type": "markdown",
   "id": "a24ed735",
   "metadata": {},
   "source": [
    "### Looks like poutcome is mostly unknown but still gonna keep it since it gives better results"
   ]
  },
  {
   "cell_type": "code",
   "execution_count": 198,
   "id": "7522fd0b",
   "metadata": {},
   "outputs": [
    {
     "data": {
      "text/plain": [
       "<AxesSubplot:xlabel='contact', ylabel='count'>"
      ]
     },
     "execution_count": 198,
     "metadata": {},
     "output_type": "execute_result"
    },
    {
     "data": {
      "image/png": "[encoded data removed]",
      "text/plain": [
       "<Figure size 432x288 with 1 Axes>"
      ]
     },
     "metadata": {
      "needs_background": "light"
     },
     "output_type": "display_data"
    }
   ],
   "source": [
    "sns.countplot(data=df,x=\"contact\")"
   ]
  },
  {
   "cell_type": "code",
   "execution_count": 199,
   "id": "c1cdffa0",
   "metadata": {},
   "outputs": [
    {
     "data": {
      "text/plain": [
       "<AxesSubplot:xlabel='contact'>"
      ]
     },
     "execution_count": 199,
     "metadata": {},
     "output_type": "execute_result"
    },
    {
     "data": {
      "image/png": "[encoded data removed]",
      "text/plain": [
       "<Figure size 432x288 with 1 Axes>"
      ]
     },
     "metadata": {
      "needs_background": "light"
     },
     "output_type": "display_data"
    }
   ],
   "source": [
    "(pd.crosstab(df['contact'], df['y'],\n",
    "             normalize='index')\n",
    " .plot.bar(stacked=True)\n",
    " )"
   ]
  },
  {
   "cell_type": "markdown",
   "id": "34bed418",
   "metadata": {},
   "source": [
    "### Unknown label might be \"sms\" here because it has less ratio for buying deposit.\n",
    "### I first tried to drop them but not dropping it had better performance so lets keep it"
   ]
  },
  {
   "cell_type": "markdown",
   "id": "fd06cb18",
   "metadata": {},
   "source": [
    "### And also I think there is no reason for us keep track of last contacted day and month we can get enough information from other features such as campaign , pdays etc."
   ]
  },
  {
   "cell_type": "code",
   "execution_count": 200,
   "id": "7c553424",
   "metadata": {},
   "outputs": [],
   "source": [
    "df = df.drop([\"day\",\"month\"],axis=1)"
   ]
  },
  {
   "cell_type": "code",
   "execution_count": 201,
   "id": "5418eabe",
   "metadata": {},
   "outputs": [
    {
     "data": {
      "text/plain": [
       "45211"
      ]
     },
     "execution_count": 201,
     "metadata": {},
     "output_type": "execute_result"
    }
   ],
   "source": [
    "len(df)"
   ]
  },
  {
   "cell_type": "markdown",
   "id": "77b648c2",
   "metadata": {},
   "source": [
    "### Also lets drop the rows with education is unknown and job is unknown"
   ]
  },
  {
   "cell_type": "code",
   "execution_count": 202,
   "id": "aed80e88",
   "metadata": {},
   "outputs": [
    {
     "data": {
      "text/plain": [
       "43193"
      ]
     },
     "execution_count": 202,
     "metadata": {},
     "output_type": "execute_result"
    }
   ],
   "source": [
    "df = df[df[\"education\"]!=\"unknown\"]\n",
    "df = df[df[\"job\"]!=\"unknown\"]\n",
    "len(df)"
   ]
  },
  {
   "cell_type": "markdown",
   "id": "9fb22ed4",
   "metadata": {},
   "source": [
    "### So we didnt lose that much data thats cool, now we have more precise data"
   ]
  },
  {
   "cell_type": "markdown",
   "id": "d5812fae",
   "metadata": {},
   "source": [
    "## -------------------------------------------------------\n",
    "## Dealing with numerical data\n",
    "\n",
    "###  Boxplots for numerical data"
   ]
  },
  {
   "cell_type": "code",
   "execution_count": 203,
   "id": "ec9ad3ad",
   "metadata": {},
   "outputs": [
    {
     "data": {
      "text/plain": [
       "<AxesSubplot:xlabel='age'>"
      ]
     },
     "execution_count": 203,
     "metadata": {},
     "output_type": "execute_result"
    },
    {
     "data": {
      "image/png": "[encoded data removed]",
      "text/plain": [
       "<Figure size 432x288 with 1 Axes>"
      ]
     },
     "metadata": {
      "needs_background": "light"
     },
     "output_type": "display_data"
    }
   ],
   "source": [
    "sns.boxplot(x = \"age\",data = df)"
   ]
  },
  {
   "cell_type": "markdown",
   "id": "96fb4155",
   "metadata": {},
   "source": [
    "###  As we can see we have outliers but I dont plan to delete them since we can have people around age 80-90 which is normal"
   ]
  },
  {
   "cell_type": "code",
   "execution_count": 204,
   "id": "3df98502",
   "metadata": {},
   "outputs": [
    {
     "data": {
      "text/plain": [
       "<AxesSubplot:xlabel='balance'>"
      ]
     },
     "execution_count": 204,
     "metadata": {},
     "output_type": "execute_result"
    },
    {
     "data": {
      "image/png": "[encoded data removed]",
      "text/plain": [
       "<Figure size 432x288 with 1 Axes>"
      ]
     },
     "metadata": {
      "needs_background": "light"
     },
     "output_type": "display_data"
    }
   ],
   "source": [
    "sns.boxplot(x=\"balance\",data=df)"
   ]
  },
  {
   "cell_type": "code",
   "execution_count": 205,
   "id": "a47efd27",
   "metadata": {},
   "outputs": [
    {
     "data": {
      "text/plain": [
       "count     43193.000000\n",
       "mean       1354.027342\n",
       "std        3042.103625\n",
       "min       -8019.000000\n",
       "25%          71.000000\n",
       "50%         442.000000\n",
       "75%        1412.000000\n",
       "max      102127.000000\n",
       "Name: balance, dtype: float64"
      ]
     },
     "execution_count": 205,
     "metadata": {},
     "output_type": "execute_result"
    }
   ],
   "source": [
    "df[\"balance\"].describe()"
   ]
  },
  {
   "cell_type": "markdown",
   "id": "8ee8497a",
   "metadata": {},
   "source": [
    "### Wow balance feature really has lots of outliers I might need to deal with them, or at least extreme outliers"
   ]
  },
  {
   "cell_type": "markdown",
   "id": "9bd49b85",
   "metadata": {},
   "source": [
    "### I will only delete outliers from balance feature because I dont think other features such as \"age\",\"pdays\" are needed to clean from outliers"
   ]
  },
  {
   "cell_type": "code",
   "execution_count": 206,
   "id": "a159895a",
   "metadata": {},
   "outputs": [],
   "source": [
    "numerical_cols = [\"balance\"]\n",
    "\n",
    "Q1 = df[numerical_cols].quantile(0.25) \n",
    "Q3 = df[numerical_cols].quantile(0.75) \n",
    "\n",
    "IQR = Q3 - Q1  "
   ]
  },
  {
   "cell_type": "code",
   "execution_count": 207,
   "id": "c99a02c6",
   "metadata": {},
   "outputs": [
    {
     "data": {
      "text/plain": [
       "balance    1341.0\n",
       "dtype: float64"
      ]
     },
     "execution_count": 207,
     "metadata": {},
     "output_type": "execute_result"
    }
   ],
   "source": [
    "IQR"
   ]
  },
  {
   "cell_type": "code",
   "execution_count": 208,
   "id": "c79f5e11",
   "metadata": {},
   "outputs": [
    {
     "name": "stdout",
     "output_type": "stream",
     "text": [
      "<class 'pandas.core.frame.DataFrame'>\n",
      "Int64Index: 40847 entries, 0 to 45210\n",
      "Data columns (total 15 columns):\n",
      " #   Column     Non-Null Count  Dtype \n",
      "---  ------     --------------  ----- \n",
      " 0   age        40847 non-null  int64 \n",
      " 1   job        40847 non-null  object\n",
      " 2   marital    40847 non-null  object\n",
      " 3   education  40847 non-null  object\n",
      " 4   default    40847 non-null  object\n",
      " 5   balance    40847 non-null  int64 \n",
      " 6   housing    40847 non-null  object\n",
      " 7   loan       40847 non-null  object\n",
      " 8   contact    40847 non-null  object\n",
      " 9   duration   40847 non-null  int64 \n",
      " 10  campaign   40847 non-null  int64 \n",
      " 11  pdays      40847 non-null  int64 \n",
      " 12  previous   40847 non-null  int64 \n",
      " 13  poutcome   40847 non-null  object\n",
      " 14  y          40847 non-null  object\n",
      "dtypes: int64(6), object(9)\n",
      "memory usage: 5.0+ MB\n"
     ]
    }
   ],
   "source": [
    "cols = numerical_cols\n",
    "df_out = df[~((df[cols] < (Q1 - 3* IQR)) |(df[cols] > (Q3 + 3* IQR))).any(axis=1)]\n",
    "df_out.info()"
   ]
  },
  {
   "cell_type": "code",
   "execution_count": 209,
   "id": "211afa3b",
   "metadata": {},
   "outputs": [
    {
     "data": {
      "text/html": [
       "<div>\n",
       "<style scoped>\n",
       "    .dataframe tbody tr th:only-of-type {\n",
       "        vertical-align: middle;\n",
       "    }\n",
       "\n",
       "    .dataframe tbody tr th {\n",
       "        vertical-align: top;\n",
       "    }\n",
       "\n",
       "    .dataframe thead th {\n",
       "        text-align: right;\n",
       "    }\n",
       "</style>\n",
       "<table border=\"1\" class=\"dataframe\">\n",
       "  <thead>\n",
       "    <tr style=\"text-align: right;\">\n",
       "      <th></th>\n",
       "      <th>age</th>\n",
       "      <th>job</th>\n",
       "      <th>marital</th>\n",
       "      <th>education</th>\n",
       "      <th>default</th>\n",
       "      <th>balance</th>\n",
       "      <th>housing</th>\n",
       "      <th>loan</th>\n",
       "      <th>contact</th>\n",
       "      <th>duration</th>\n",
       "      <th>campaign</th>\n",
       "      <th>pdays</th>\n",
       "      <th>previous</th>\n",
       "      <th>poutcome</th>\n",
       "      <th>y</th>\n",
       "    </tr>\n",
       "  </thead>\n",
       "  <tbody>\n",
       "    <tr>\n",
       "      <th>0</th>\n",
       "      <td>58</td>\n",
       "      <td>management</td>\n",
       "      <td>married</td>\n",
       "      <td>tertiary</td>\n",
       "      <td>no</td>\n",
       "      <td>2143</td>\n",
       "      <td>yes</td>\n",
       "      <td>no</td>\n",
       "      <td>unknown</td>\n",
       "      <td>261</td>\n",
       "      <td>1</td>\n",
       "      <td>-1</td>\n",
       "      <td>0</td>\n",
       "      <td>unknown</td>\n",
       "      <td>no</td>\n",
       "    </tr>\n",
       "    <tr>\n",
       "      <th>1</th>\n",
       "      <td>44</td>\n",
       "      <td>technician</td>\n",
       "      <td>single</td>\n",
       "      <td>secondary</td>\n",
       "      <td>no</td>\n",
       "      <td>29</td>\n",
       "      <td>yes</td>\n",
       "      <td>no</td>\n",
       "      <td>unknown</td>\n",
       "      <td>151</td>\n",
       "      <td>1</td>\n",
       "      <td>-1</td>\n",
       "      <td>0</td>\n",
       "      <td>unknown</td>\n",
       "      <td>no</td>\n",
       "    </tr>\n",
       "    <tr>\n",
       "      <th>2</th>\n",
       "      <td>33</td>\n",
       "      <td>entrepreneur</td>\n",
       "      <td>married</td>\n",
       "      <td>secondary</td>\n",
       "      <td>no</td>\n",
       "      <td>2</td>\n",
       "      <td>yes</td>\n",
       "      <td>yes</td>\n",
       "      <td>unknown</td>\n",
       "      <td>76</td>\n",
       "      <td>1</td>\n",
       "      <td>-1</td>\n",
       "      <td>0</td>\n",
       "      <td>unknown</td>\n",
       "      <td>no</td>\n",
       "    </tr>\n",
       "    <tr>\n",
       "      <th>5</th>\n",
       "      <td>35</td>\n",
       "      <td>management</td>\n",
       "      <td>married</td>\n",
       "      <td>tertiary</td>\n",
       "      <td>no</td>\n",
       "      <td>231</td>\n",
       "      <td>yes</td>\n",
       "      <td>no</td>\n",
       "      <td>unknown</td>\n",
       "      <td>139</td>\n",
       "      <td>1</td>\n",
       "      <td>-1</td>\n",
       "      <td>0</td>\n",
       "      <td>unknown</td>\n",
       "      <td>no</td>\n",
       "    </tr>\n",
       "    <tr>\n",
       "      <th>6</th>\n",
       "      <td>28</td>\n",
       "      <td>management</td>\n",
       "      <td>single</td>\n",
       "      <td>tertiary</td>\n",
       "      <td>no</td>\n",
       "      <td>447</td>\n",
       "      <td>yes</td>\n",
       "      <td>yes</td>\n",
       "      <td>unknown</td>\n",
       "      <td>217</td>\n",
       "      <td>1</td>\n",
       "      <td>-1</td>\n",
       "      <td>0</td>\n",
       "      <td>unknown</td>\n",
       "      <td>no</td>\n",
       "    </tr>\n",
       "  </tbody>\n",
       "</table>\n",
       "</div>"
      ],
      "text/plain": [
       "   age           job  marital  education default  balance housing loan  \\\n",
       "0   58    management  married   tertiary      no     2143     yes   no   \n",
       "1   44    technician   single  secondary      no       29     yes   no   \n",
       "2   33  entrepreneur  married  secondary      no        2     yes  yes   \n",
       "5   35    management  married   tertiary      no      231     yes   no   \n",
       "6   28    management   single   tertiary      no      447     yes  yes   \n",
       "\n",
       "   contact  duration  campaign  pdays  previous poutcome   y  \n",
       "0  unknown       261         1     -1         0  unknown  no  \n",
       "1  unknown       151         1     -1         0  unknown  no  \n",
       "2  unknown        76         1     -1         0  unknown  no  \n",
       "5  unknown       139         1     -1         0  unknown  no  \n",
       "6  unknown       217         1     -1         0  unknown  no  "
      ]
     },
     "execution_count": 209,
     "metadata": {},
     "output_type": "execute_result"
    }
   ],
   "source": [
    "df_out.head()"
   ]
  },
  {
   "cell_type": "markdown",
   "id": "c26c2608",
   "metadata": {},
   "source": [
    "### So we deleted extreme outliers from balance"
   ]
  },
  {
   "cell_type": "markdown",
   "id": "1dddd138",
   "metadata": {},
   "source": [
    "## Now since we visualized and preprocessed our data now we are ready create our models and compare their performances\n",
    "\n",
    "\n",
    "## -------------------------------------------------------------------------\n",
    "# Creating Model and Fine Tuning"
   ]
  },
  {
   "cell_type": "markdown",
   "id": "fd487b09",
   "metadata": {},
   "source": [
    "### Using pd.get_dummies() to deal with string values and turn everything into numerical data"
   ]
  },
  {
   "cell_type": "code",
   "execution_count": 210,
   "id": "f3624f74",
   "metadata": {},
   "outputs": [
    {
     "data": {
      "text/html": [
       "<div>\n",
       "<style scoped>\n",
       "    .dataframe tbody tr th:only-of-type {\n",
       "        vertical-align: middle;\n",
       "    }\n",
       "\n",
       "    .dataframe tbody tr th {\n",
       "        vertical-align: top;\n",
       "    }\n",
       "\n",
       "    .dataframe thead th {\n",
       "        text-align: right;\n",
       "    }\n",
       "</style>\n",
       "<table border=\"1\" class=\"dataframe\">\n",
       "  <thead>\n",
       "    <tr style=\"text-align: right;\">\n",
       "      <th></th>\n",
       "      <th>age</th>\n",
       "      <th>balance</th>\n",
       "      <th>duration</th>\n",
       "      <th>campaign</th>\n",
       "      <th>pdays</th>\n",
       "      <th>previous</th>\n",
       "      <th>job_blue-collar</th>\n",
       "      <th>job_entrepreneur</th>\n",
       "      <th>job_housemaid</th>\n",
       "      <th>job_management</th>\n",
       "      <th>...</th>\n",
       "      <th>education_tertiary</th>\n",
       "      <th>default_yes</th>\n",
       "      <th>housing_yes</th>\n",
       "      <th>loan_yes</th>\n",
       "      <th>contact_telephone</th>\n",
       "      <th>contact_unknown</th>\n",
       "      <th>poutcome_other</th>\n",
       "      <th>poutcome_success</th>\n",
       "      <th>poutcome_unknown</th>\n",
       "      <th>y_yes</th>\n",
       "    </tr>\n",
       "  </thead>\n",
       "  <tbody>\n",
       "    <tr>\n",
       "      <th>0</th>\n",
       "      <td>58</td>\n",
       "      <td>2143</td>\n",
       "      <td>261</td>\n",
       "      <td>1</td>\n",
       "      <td>-1</td>\n",
       "      <td>0</td>\n",
       "      <td>0</td>\n",
       "      <td>0</td>\n",
       "      <td>0</td>\n",
       "      <td>1</td>\n",
       "      <td>...</td>\n",
       "      <td>1</td>\n",
       "      <td>0</td>\n",
       "      <td>1</td>\n",
       "      <td>0</td>\n",
       "      <td>0</td>\n",
       "      <td>1</td>\n",
       "      <td>0</td>\n",
       "      <td>0</td>\n",
       "      <td>1</td>\n",
       "      <td>0</td>\n",
       "    </tr>\n",
       "    <tr>\n",
       "      <th>1</th>\n",
       "      <td>44</td>\n",
       "      <td>29</td>\n",
       "      <td>151</td>\n",
       "      <td>1</td>\n",
       "      <td>-1</td>\n",
       "      <td>0</td>\n",
       "      <td>0</td>\n",
       "      <td>0</td>\n",
       "      <td>0</td>\n",
       "      <td>0</td>\n",
       "      <td>...</td>\n",
       "      <td>0</td>\n",
       "      <td>0</td>\n",
       "      <td>1</td>\n",
       "      <td>0</td>\n",
       "      <td>0</td>\n",
       "      <td>1</td>\n",
       "      <td>0</td>\n",
       "      <td>0</td>\n",
       "      <td>1</td>\n",
       "      <td>0</td>\n",
       "    </tr>\n",
       "    <tr>\n",
       "      <th>2</th>\n",
       "      <td>33</td>\n",
       "      <td>2</td>\n",
       "      <td>76</td>\n",
       "      <td>1</td>\n",
       "      <td>-1</td>\n",
       "      <td>0</td>\n",
       "      <td>0</td>\n",
       "      <td>1</td>\n",
       "      <td>0</td>\n",
       "      <td>0</td>\n",
       "      <td>...</td>\n",
       "      <td>0</td>\n",
       "      <td>0</td>\n",
       "      <td>1</td>\n",
       "      <td>1</td>\n",
       "      <td>0</td>\n",
       "      <td>1</td>\n",
       "      <td>0</td>\n",
       "      <td>0</td>\n",
       "      <td>1</td>\n",
       "      <td>0</td>\n",
       "    </tr>\n",
       "    <tr>\n",
       "      <th>5</th>\n",
       "      <td>35</td>\n",
       "      <td>231</td>\n",
       "      <td>139</td>\n",
       "      <td>1</td>\n",
       "      <td>-1</td>\n",
       "      <td>0</td>\n",
       "      <td>0</td>\n",
       "      <td>0</td>\n",
       "      <td>0</td>\n",
       "      <td>1</td>\n",
       "      <td>...</td>\n",
       "      <td>1</td>\n",
       "      <td>0</td>\n",
       "      <td>1</td>\n",
       "      <td>0</td>\n",
       "      <td>0</td>\n",
       "      <td>1</td>\n",
       "      <td>0</td>\n",
       "      <td>0</td>\n",
       "      <td>1</td>\n",
       "      <td>0</td>\n",
       "    </tr>\n",
       "    <tr>\n",
       "      <th>6</th>\n",
       "      <td>28</td>\n",
       "      <td>447</td>\n",
       "      <td>217</td>\n",
       "      <td>1</td>\n",
       "      <td>-1</td>\n",
       "      <td>0</td>\n",
       "      <td>0</td>\n",
       "      <td>0</td>\n",
       "      <td>0</td>\n",
       "      <td>1</td>\n",
       "      <td>...</td>\n",
       "      <td>1</td>\n",
       "      <td>0</td>\n",
       "      <td>1</td>\n",
       "      <td>1</td>\n",
       "      <td>0</td>\n",
       "      <td>1</td>\n",
       "      <td>0</td>\n",
       "      <td>0</td>\n",
       "      <td>1</td>\n",
       "      <td>0</td>\n",
       "    </tr>\n",
       "  </tbody>\n",
       "</table>\n",
       "<p>5 rows × 29 columns</p>\n",
       "</div>"
      ],
      "text/plain": [
       "   age  balance  duration  campaign  pdays  previous  job_blue-collar  \\\n",
       "0   58     2143       261         1     -1         0                0   \n",
       "1   44       29       151         1     -1         0                0   \n",
       "2   33        2        76         1     -1         0                0   \n",
       "5   35      231       139         1     -1         0                0   \n",
       "6   28      447       217         1     -1         0                0   \n",
       "\n",
       "   job_entrepreneur  job_housemaid  job_management  ...  education_tertiary  \\\n",
       "0                 0              0               1  ...                   1   \n",
       "1                 0              0               0  ...                   0   \n",
       "2                 1              0               0  ...                   0   \n",
       "5                 0              0               1  ...                   1   \n",
       "6                 0              0               1  ...                   1   \n",
       "\n",
       "   default_yes  housing_yes  loan_yes  contact_telephone  contact_unknown  \\\n",
       "0            0            1         0                  0                1   \n",
       "1            0            1         0                  0                1   \n",
       "2            0            1         1                  0                1   \n",
       "5            0            1         0                  0                1   \n",
       "6            0            1         1                  0                1   \n",
       "\n",
       "   poutcome_other  poutcome_success  poutcome_unknown  y_yes  \n",
       "0               0                 0                 1      0  \n",
       "1               0                 0                 1      0  \n",
       "2               0                 0                 1      0  \n",
       "5               0                 0                 1      0  \n",
       "6               0                 0                 1      0  \n",
       "\n",
       "[5 rows x 29 columns]"
      ]
     },
     "execution_count": 210,
     "metadata": {},
     "output_type": "execute_result"
    }
   ],
   "source": [
    "df_out = pd.get_dummies(df_out,drop_first=True)\n",
    "df_out.head()\n"
   ]
  },
  {
   "cell_type": "markdown",
   "id": "7d809791",
   "metadata": {},
   "source": [
    "###  Getting ready our data split , normalize etc."
   ]
  },
  {
   "cell_type": "code",
   "execution_count": 211,
   "id": "51166bb8",
   "metadata": {},
   "outputs": [],
   "source": [
    "from sklearn.model_selection import train_test_split,GridSearchCV\n",
    "from sklearn.preprocessing import StandardScaler\n",
    "from sklearn.preprocessing import LabelEncoder\n",
    "from sklearn.metrics import confusion_matrix,ConfusionMatrixDisplay,classification_report\n",
    "\n",
    "\n",
    "X = df_out[df_out.columns[:-1]]\n",
    "y = df_out[\"y_yes\"]\n",
    "y = LabelEncoder().fit_transform(y)\n",
    "\n",
    "X_train, X_test, y_train, y_test = train_test_split(X, y, test_size=0.15, random_state=42)\n",
    "\n",
    "\n",
    "\n",
    "scaler = StandardScaler()\n",
    "scaler.fit(X_train)\n",
    "\n",
    "X_train = scaler.transform(X_train)\n",
    "X_test = scaler.transform(X_test)"
   ]
  },
  {
   "cell_type": "markdown",
   "id": "17d831ae",
   "metadata": {},
   "source": [
    "### 1-) First Model KNN"
   ]
  },
  {
   "cell_type": "code",
   "execution_count": 212,
   "id": "3bb80764",
   "metadata": {},
   "outputs": [
    {
     "name": "stdout",
     "output_type": "stream",
     "text": [
      "Fitting 10 folds for each of 4 candidates, totalling 40 fits\n"
     ]
    },
    {
     "data": {
      "text/plain": [
       "GridSearchCV(cv=10, estimator=KNeighborsClassifier(weights='distance'),\n",
       "             param_grid={'n_neighbors': [3, 5, 7, 9]}, return_train_score=True,\n",
       "             scoring='roc_auc', verbose=1)"
      ]
     },
     "execution_count": 212,
     "metadata": {},
     "output_type": "execute_result"
    }
   ],
   "source": [
    "from sklearn.neighbors import KNeighborsClassifier\n",
    "\n",
    "\n",
    "param_grid = {'n_neighbors': [3, 5, 7 , 9]}  ## choosing odd\n",
    "\n",
    "knn = KNeighborsClassifier(weights=\"distance\") ## lets make it weighted\n",
    "grid_search = GridSearchCV(knn, param_grid, cv=10 , return_train_score=True,verbose=1,scoring=\"roc_auc\")\n",
    "\n",
    "grid_search.fit(X_train[:8000], y_train[:8000]) ## taking less samples to cross validate"
   ]
  },
  {
   "cell_type": "code",
   "execution_count": 213,
   "id": "5b7e0402",
   "metadata": {},
   "outputs": [
    {
     "name": "stdout",
     "output_type": "stream",
     "text": [
      "{'n_neighbors': 9}\n",
      "0.8058239848438606\n"
     ]
    }
   ],
   "source": [
    "# Print the best hyperparameters and the best cross-validation score\n",
    "print(grid_search.best_params_)\n",
    "print(grid_search.best_score_)"
   ]
  },
  {
   "cell_type": "code",
   "execution_count": 214,
   "id": "9ecb0e13",
   "metadata": {},
   "outputs": [
    {
     "name": "stdout",
     "output_type": "stream",
     "text": [
      "KNN classifier accuracy  0.8938\n"
     ]
    }
   ],
   "source": [
    "best_knn = grid_search.best_estimator_\n",
    "accuracy = best_knn.score(X_test, y_test)\n",
    "print(\"KNN classifier accuracy \",accuracy.round(4))"
   ]
  },
  {
   "cell_type": "code",
   "execution_count": 215,
   "id": "64e34fb2",
   "metadata": {},
   "outputs": [
    {
     "name": "stdout",
     "output_type": "stream",
     "text": [
      "              precision    recall  f1-score   support\n",
      "\n",
      "           0       0.91      0.98      0.94      5414\n",
      "           1       0.61      0.25      0.35       714\n",
      "\n",
      "    accuracy                           0.89      6128\n",
      "   macro avg       0.76      0.61      0.65      6128\n",
      "weighted avg       0.87      0.89      0.87      6128\n",
      "\n"
     ]
    },
    {
     "data": {
      "image/png": "[encoded data removed]",
      "text/plain": [
       "<Figure size 432x288 with 2 Axes>"
      ]
     },
     "metadata": {
      "needs_background": "light"
     },
     "output_type": "display_data"
    }
   ],
   "source": [
    "\n",
    "# Generate a confusion matrix\n",
    "y_pred = best_knn.predict(X_test)\n",
    "confusion_mat = confusion_matrix(y_test, y_pred)\n",
    "# Visualize the confusion matrix\n",
    "disp = ConfusionMatrixDisplay(confusion_mat)\n",
    "disp.plot()\n",
    "print(classification_report(y_test,y_pred)) "
   ]
  },
  {
   "cell_type": "markdown",
   "id": "2ffbbb23",
   "metadata": {},
   "source": [
    "### In our KNN model we generally have good accuracy but since we are dealing with binary classification it doesnt tell that much. We have to take look at recall and precision. Our model has good preciison and recall for label \"No\" but for label \"Yes\" it has very low recall around 20 percent and precision is not so good too its around 50 percent.  \n",
    "\n",
    "### This could be due to the class imbalance problem lets solve it by other models. Now lets move on with second model"
   ]
  },
  {
   "cell_type": "markdown",
   "id": "2d4af0df",
   "metadata": {},
   "source": [
    "### 2 ) Logistic Regression"
   ]
  },
  {
   "cell_type": "code",
   "execution_count": 216,
   "id": "d4015c1a",
   "metadata": {},
   "outputs": [
    {
     "name": "stdout",
     "output_type": "stream",
     "text": [
      "              precision    recall  f1-score   support\n",
      "\n",
      "           0       0.97      0.84      0.90      5414\n",
      "           1       0.38      0.77      0.51       714\n",
      "\n",
      "    accuracy                           0.83      6128\n",
      "   macro avg       0.67      0.80      0.70      6128\n",
      "weighted avg       0.90      0.83      0.85      6128\n",
      "\n",
      "tuned hpyerparameters :(best parameters)  {'C': 0.01, 'class_weight': 'balanced', 'dual': False, 'fit_intercept': True, 'intercept_scaling': 1, 'l1_ratio': None, 'max_iter': 100, 'multi_class': 'auto', 'n_jobs': None, 'penalty': 'l2', 'random_state': None, 'solver': 'saga', 'tol': 0.0001, 'verbose': 0, 'warm_start': False}\n"
     ]
    },
    {
     "data": {
      "image/png": "[encoded data removed]",
      "text/plain": [
       "<Figure size 432x288 with 2 Axes>"
      ]
     },
     "metadata": {
      "needs_background": "light"
     },
     "output_type": "display_data"
    }
   ],
   "source": [
    "from sklearn.linear_model import LogisticRegression\n",
    "from sklearn.metrics import ConfusionMatrixDisplay\n",
    "\n",
    "\n",
    "logreg = LogisticRegression(solver=\"saga\",class_weight='balanced') ## since our labels are not balanced\n",
    "\n",
    "parameters = [ {'penalty':['l1', 'l2']},\n",
    "              {'C':[10**-4, 10**-3, 10**-2, 10**-1, 1]}]\n",
    "\n",
    "\n",
    "\n",
    "grid_search = GridSearchCV(estimator = logreg,  \n",
    "                           param_grid = parameters,\n",
    "                           scoring = 'roc_auc',\n",
    "                           cv = 10,\n",
    "                           verbose=0,)\n",
    "\n",
    "\n",
    "grid_search.fit(X_train,y_train)\n",
    "\n",
    "grid_predictions = grid_search.predict(X_test)\n",
    "\n",
    "cm = confusion_matrix(y_test,grid_predictions)\n",
    "\n",
    "disp = ConfusionMatrixDisplay(confusion_matrix=cm,display_labels=grid_search.classes_)\n",
    "disp.plot()\n",
    "\n",
    "\n",
    "print(classification_report(y_test,grid_predictions))#Output\n",
    "\n",
    "print(\"tuned hpyerparameters :(best parameters) \",grid_search.best_estimator_.get_params())"
   ]
  },
  {
   "cell_type": "markdown",
   "id": "c4ace3d8",
   "metadata": {},
   "source": [
    "### Precisions are pretty high but we also want to achieve more recall for sensivity"
   ]
  },
  {
   "cell_type": "markdown",
   "id": "5f45fb72",
   "metadata": {},
   "source": [
    "###  We had around 81 accuracy its not so good but we had good precision for \"no\" good recall for both labels which if we consider \"yes\" is less occurs so it is better to improve our chance to detect those who would say  \n",
    "### But precision for predicting yes is still low lets try another model if we can also get good precision\n",
    "\n",
    "### But it is still a good model if a bank has something like this this could make them gain so much time\n",
    "\n",
    "\n",
    "### I tried some different versions but still cant make precision high, this could be due to the data might be not linearly seperable.\n",
    "\n",
    "### So lets try some more advanced choice SVC which can handle non-lniearly seperable data"
   ]
  },
  {
   "cell_type": "markdown",
   "id": "ab28488f",
   "metadata": {},
   "source": [
    "## 3-) SVC"
   ]
  },
  {
   "cell_type": "code",
   "execution_count": 217,
   "id": "571749f2",
   "metadata": {},
   "outputs": [
    {
     "name": "stdout",
     "output_type": "stream",
     "text": [
      "Fitting 5 folds for each of 18 candidates, totalling 90 fits\n",
      "              precision    recall  f1-score   support\n",
      "\n",
      "           0       0.96      0.81      0.88      5414\n",
      "           1       0.35      0.77      0.48       714\n",
      "\n",
      "    accuracy                           0.81      6128\n",
      "   macro avg       0.66      0.79      0.68      6128\n",
      "weighted avg       0.89      0.81      0.84      6128\n",
      "\n",
      "tuned hpyerparameters :(best parameters)  {'C': 0.01, 'break_ties': False, 'cache_size': 200, 'class_weight': 'balanced', 'coef0': 0.0, 'decision_function_shape': 'ovr', 'degree': 3, 'gamma': 0.1, 'kernel': 'sigmoid', 'max_iter': -1, 'probability': False, 'random_state': None, 'shrinking': True, 'tol': 0.001, 'verbose': False}\n"
     ]
    },
    {
     "data": {
      "image/png": "[encoded data removed]",
      "text/plain": [
       "<Figure size 432x288 with 2 Axes>"
      ]
     },
     "metadata": {
      "needs_background": "light"
     },
     "output_type": "display_data"
    }
   ],
   "source": [
    "from sklearn.svm import SVC  \n",
    "\n",
    "\n",
    "\n",
    "svc = SVC(class_weight=\"balanced\")\n",
    "\n",
    "parameters = {'C': [0.01,0.1, 1],\n",
    "              'gamma': [1, 0.1],\n",
    "              'kernel': ['rbf', 'poly', 'sigmoid']}\n",
    "\n",
    "grid_search = GridSearchCV(estimator = svc,  \n",
    "                           param_grid = parameters,\n",
    "                           scoring = 'roc_auc',\n",
    "                           cv = 5,\n",
    "                           verbose=2,\n",
    "                          n_jobs=-1)\n",
    "\n",
    "\n",
    "grid_search.fit(X_train[:5000],y_train[:5000])\n",
    "\n",
    "grid_predictions = grid_search.predict(X_test)\n",
    "\n",
    "cm = confusion_matrix(y_test,grid_predictions)\n",
    "\n",
    "disp = ConfusionMatrixDisplay(confusion_matrix=cm,display_labels=grid_search.classes_)\n",
    "disp.plot()\n",
    "\n",
    "\n",
    "print(classification_report(y_test,grid_predictions))#Output\n",
    "\n",
    "print(\"tuned hpyerparameters :(best parameters) \",grid_search.best_estimator_.get_params())"
   ]
  },
  {
   "cell_type": "markdown",
   "id": "5069efcf",
   "metadata": {},
   "source": [
    "### Final F1  Scores of models are\n",
    "\n",
    "### FOR CLASS \"NO\"\n",
    "\n",
    "### KNN---LOGREG---SVC\n",
    "### 0.94------0.90-------0.88\n",
    "\n",
    "\n",
    "### FOR CLASS \"YES\"\n",
    "\n",
    "### KNN---LOGREG---SVC\n",
    "### 0.35------0.51-------0.48\n",
    "\n",
    "### Final Accuracies   of models are\n",
    "### KNN---LOGREG---SVC\n",
    "### 0.89------0.83-------0.81"
   ]
  },
  {
   "cell_type": "markdown",
   "id": "7777c3e8",
   "metadata": {},
   "source": [
    "### -------------------------------------------\n",
    "\n",
    "\n",
    "## Conclusion\n",
    "### -------------------------------------------\n",
    "\n",
    "\n",
    "### KNN had better accuracy then the others but since this is a binary classification with imbalanced data it is not enough. We need to take a look at recall,precision etc. to evaluate\n",
    "\n",
    "### In the end we can say that KNN had good results for predicting class \"No\" but since there was class imbalance issue it was not good with class \"Yes\" , with the help of logistic regression we dealt that problem however we were not still having good recall,precision(f1) scores in general.\n",
    "### Finally I tried SVC which could solve the issue if they are non linearly seperable data\n",
    "### And this didnt work well , we had best results in logistic regression in general. It gave good f1 scores for both \"no\" and \"yes\" and an overall accuracy.\n",
    "\n",
    "\n",
    "## So the final choice might depend on the need of customer. Does he want all predicted class \"yes\" to be \"yes\" or better performance at predicting class \"No\" etc. howevet I think that logistic regression and SVC are pretty good for evaluating a customers attitude with given features. This could help the banking industry by gaining time and knowing more about customers"
   ]
  }
 ],
 "metadata": {
  "kernelspec": {
   "display_name": "Python 3 (ipykernel)",
   "language": "python",
   "name": "python3"
  },
  "language_info": {
   "codemirror_mode": {
    "name": "ipython",
    "version": 3
   },
   "file_extension": ".py",
   "mimetype": "text/x-python",
   "name": "python",
   "nbconvert_exporter": "python",
   "pygments_lexer": "ipython3",
   "version": "3.9.12"
  }
 },
 "nbformat": 4,
 "nbformat_minor": 5
}
